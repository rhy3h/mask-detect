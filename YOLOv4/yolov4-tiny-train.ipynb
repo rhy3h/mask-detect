{
  "nbformat": 4,
  "nbformat_minor": 0,
  "metadata": {
    "colab": {
      "name": "yolov4-tiny",
      "provenance": [],
      "collapsed_sections": []
    },
    "kernelspec": {
      "name": "python3",
      "display_name": "Python 3"
    },
    "language_info": {
      "name": "python"
    },
    "accelerator": "GPU"
  },
  "cells": [
    {
      "cell_type": "markdown",
      "metadata": {
        "id": "CHJ9GX74W32M"
      },
      "source": [
        "## 檢查GPU"
      ]
    },
    {
      "cell_type": "code",
      "metadata": {
        "colab": {
          "base_uri": "https://localhost:8080/"
        },
        "id": "jB-EQGfPWxn_",
        "outputId": "272aa681-521f-4b14-f959-f33f5dbb5b49"
      },
      "source": [
        "! nvidia-smi"
      ],
      "execution_count": null,
      "outputs": []
    },
    {
      "cell_type": "markdown",
      "metadata": {
        "id": "6R5tl4I8gXD0"
      },
      "source": [
        "# Yolo v4"
      ]
    },
    {
      "cell_type": "markdown",
      "metadata": {
        "id": "9-dRItiKW7YL"
      },
      "source": [
        "## 下載 Darknet(AlexeyAB)"
      ]
    },
    {
      "cell_type": "code",
      "metadata": {
        "colab": {
          "base_uri": "https://localhost:8080/"
        },
        "id": "n4J8GNWEXAau",
        "outputId": "9dab32ec-65c2-4af4-8866-278bad4f8acb"
      },
      "source": [
        "! git clone https://github.com/AlexeyAB/darknet.git"
      ],
      "execution_count": null,
      "outputs": []
    },
    {
      "cell_type": "markdown",
      "metadata": {
        "id": "J7Bthp2NXH3f"
      },
      "source": [
        "## 參數說明\n",
        "- GPU=1 使用 GPU CUDA\n",
        "- CUDNN=1 Use cuDNN v5-v7\n",
        "- CUDNN_HALF=1 Use Tensor Cores (For Titan V / Tesla V100 / DGX-2 and later) Detect 3x , Train 2x\n",
        "- OPENCV=1 Use OpenCV 3.x/2.4.x - Cemera"
      ]
    },
    {
      "cell_type": "code",
      "metadata": {
        "colab": {
          "base_uri": "https://localhost:8080/"
        },
        "id": "ogx2tqtLXCus",
        "outputId": "de98f4d4-9f4f-4452-91d9-bea815480771"
      },
      "source": [
        "! head darknet/Makefile\n",
        "! sed -i \"s/GPU=0/GPU=1/g\" darknet/Makefile\n",
        "! sed -i \"s/CUDNN=0/CUDNN=1/g\" darknet/Makefile\n",
        "! sed -i \"s/OPENCV=0/OPENCV=1/g\" darknet/Makefile\n",
        "! head darknet/Makefile"
      ],
      "execution_count": null,
      "outputs": []
    },
    {
      "cell_type": "markdown",
      "metadata": {
        "id": "qiW71RUWXOUt"
      },
      "source": [
        "## 編譯 Yolo v4"
      ]
    },
    {
      "cell_type": "code",
      "metadata": {
        "colab": {
          "base_uri": "https://localhost:8080/"
        },
        "id": "X0YMIE3nXQKs",
        "outputId": "f4844a6f-4e9f-4607-e593-f26a0f44cf9b"
      },
      "source": [
        "! cd darknet ; make"
      ],
      "execution_count": null,
      "outputs": []
    },
    {
      "cell_type": "markdown",
      "metadata": {
        "id": "sP4uFFKJXXpD"
      },
      "source": [
        "## 使用 Yolo v4"
      ]
    },
    {
      "cell_type": "code",
      "metadata": {
        "id": "AHnlfxgQXXBz",
        "colab": {
          "base_uri": "https://localhost:8080/"
        },
        "outputId": "decdb340-38c5-4fd1-ae65-e49e6fc91004"
      },
      "source": [
        "! cd darknet ; ./darknet "
      ],
      "execution_count": null,
      "outputs": []
    },
    {
      "cell_type": "markdown",
      "metadata": {
        "id": "NdlYfOnFZ4Sk"
      },
      "source": [
        "# 訓練我的口罩偵測權重"
      ]
    },
    {
      "cell_type": "markdown",
      "metadata": {
        "id": "R0xXw1X0Z0UB"
      },
      "source": [
        "## 使用 Google Drive"
      ]
    },
    {
      "cell_type": "code",
      "metadata": {
        "id": "aoAGC6C5ZzaR",
        "colab": {
          "base_uri": "https://localhost:8080/"
        },
        "outputId": "c83b4b47-d7ce-4742-8045-b04db04c4665"
      },
      "source": [
        "from google.colab import drive\n",
        "drive.mount('/content/drive')"
      ],
      "execution_count": null,
      "outputs": []
    },
    {
      "cell_type": "code",
      "metadata": {
        "id": "CuQpliNPaBkT"
      },
      "source": [
        "! cp \"/content/drive/MyDrive/mask_dataset.zip\" /content/"
      ],
      "execution_count": null,
      "outputs": []
    },
    {
      "cell_type": "code",
      "metadata": {
        "id": "AT95UKr6aBh0"
      },
      "source": [
        "! unzip /content/mask_dataset.zip > data_unzip.log"
      ],
      "execution_count": null,
      "outputs": []
    },
    {
      "cell_type": "code",
      "metadata": {
        "id": "RH6osZGDaBLg"
      },
      "source": [
        "! rm -rf /content/cfg\n",
        "! mkdir /content/cfg"
      ],
      "execution_count": null,
      "outputs": []
    },
    {
      "cell_type": "code",
      "metadata": {
        "id": "_Pzu2RcIaBFP",
        "colab": {
          "base_uri": "https://localhost:8080/"
        },
        "outputId": "4532d663-d19c-4d69-da2a-9f62f1f8de0c"
      },
      "source": [
        "import os\n",
        "datasets = ['/content/mask_dataset/'+ f for f in os.listdir('/content/mask_dataset/') if not f.endswith('.txt')]\n",
        "len(datasets) * 0.8"
      ],
      "execution_count": null,
      "outputs": []
    },
    {
      "cell_type": "markdown",
      "metadata": {
        "id": "AKXarOttaGNp"
      },
      "source": [
        "## 80% 訓練"
      ]
    },
    {
      "cell_type": "code",
      "metadata": {
        "id": "JQq3NfGpaGFT"
      },
      "source": [
        "with open('/content/cfg/train.txt', 'w') as f:\n",
        "    f.write('\\n'.join(datasets[0:1600]))"
      ],
      "execution_count": null,
      "outputs": []
    },
    {
      "cell_type": "markdown",
      "metadata": {
        "id": "ZPTbqhhKaLtz"
      },
      "source": [
        "## 20% 測試"
      ]
    },
    {
      "cell_type": "code",
      "metadata": {
        "id": "4WEDRNujaGDI"
      },
      "source": [
        "with open('/content/cfg/test.txt', 'w') as f:\n",
        "    f.write('\\n'.join(datasets[1600:]))"
      ],
      "execution_count": null,
      "outputs": []
    },
    {
      "cell_type": "code",
      "metadata": {
        "id": "TnGVhqx1kDUW"
      },
      "source": [
        "# create obj\n",
        "import os\n",
        "labels = ['best', 'bad1', 'bad2', 'worst']\n",
        "LOCAL_CFG_DIR_PATH = \"/content/cfg\"\n",
        "GDRIVE_WEIGHTS_DIR_PATH = \"/content/drive/MyDrive/yolov4-tiny-mask-weights\"\n",
        "\n",
        "with open(os.path.join(LOCAL_CFG_DIR_PATH, \"mask.names\"), 'w') as f:\n",
        "  f.write(\"\\n\".join(labels))\n",
        "\n",
        "with open(os.path.join(LOCAL_CFG_DIR_PATH, \"mask.data\"), 'w') as f:\n",
        "  f.write(\"classes=%d\\n\" % (len(labels)))\n",
        "  f.write(\"train=%s/train.txt\\n\" % (LOCAL_CFG_DIR_PATH))\n",
        "  f.write(\"valid=%s/test.txt\\n\" % (LOCAL_CFG_DIR_PATH))\n",
        "  f.write(\"names=%s/mask.names\\n\" % (LOCAL_CFG_DIR_PATH))\n",
        "  f.write(\"backup=%s\\n\" % (GDRIVE_WEIGHTS_DIR_PATH))"
      ],
      "execution_count": null,
      "outputs": []
    },
    {
      "cell_type": "code",
      "metadata": {
        "id": "7wqAE2WDaF9r",
        "colab": {
          "base_uri": "https://localhost:8080/"
        },
        "outputId": "8a206c68-de67-4fd5-d75c-c517d2705ca7"
      },
      "source": [
        "! head /content/cfg/mask.data\n",
        "! head /content/cfg/mask.names"
      ],
      "execution_count": null,
      "outputs": []
    },
    {
      "cell_type": "code",
      "metadata": {
        "id": "HLYuopKOaR7a"
      },
      "source": [
        "! cp /content/darknet/cfg/yolov4-tiny-custom.cfg /content/cfg/"
      ],
      "execution_count": null,
      "outputs": []
    },
    {
      "cell_type": "markdown",
      "metadata": {
        "id": "6Ydi1M4RbNCu"
      },
      "source": [
        "## 第 20 行 max_batches 改成 8000(4*2000)"
      ]
    },
    {
      "cell_type": "code",
      "metadata": {
        "id": "4Ey0zJUZb5ed",
        "colab": {
          "base_uri": "https://localhost:8080/"
        },
        "outputId": "8da19e8b-aab5-47ab-b863-45ecbea677e7"
      },
      "source": [
        "! sed -n -e 20p /content/cfg/yolov4-tiny-custom.cfg\n",
        "! sed -i '20s/500200/8000/' /content/cfg/yolov4-tiny-custom.cfg\n",
        "! sed -n -e 20p /content/cfg/yolov4-tiny-custom.cfg"
      ],
      "execution_count": null,
      "outputs": []
    },
    {
      "cell_type": "markdown",
      "metadata": {
        "id": "wyOgiJNGbM8a"
      },
      "source": [
        "## 第 22 行 steps 改成 max_batches 的 80% and 90%, steps=6400,7200"
      ]
    },
    {
      "cell_type": "code",
      "metadata": {
        "id": "qP3oj9bCcsHN",
        "colab": {
          "base_uri": "https://localhost:8080/"
        },
        "outputId": "f86814e4-2c51-4ede-d154-151a679af029"
      },
      "source": [
        "! sed -n -e 22p /content/cfg/yolov4-tiny-custom.cfg\n",
        "! sed -i '22s/400000,450000/6400,7200/' /content/cfg/yolov4-tiny-custom.cfg\n",
        "! sed -n -e 22p /content/cfg/yolov4-tiny-custom.cfg"
      ],
      "execution_count": null,
      "outputs": []
    },
    {
      "cell_type": "markdown",
      "metadata": {
        "id": "ht5xaL9Wbotq"
      },
      "source": [
        "## 第 8, 9 行 改成 width=416, height=416"
      ]
    },
    {
      "cell_type": "code",
      "metadata": {
        "id": "PIiSjv1fdF14",
        "colab": {
          "base_uri": "https://localhost:8080/"
        },
        "outputId": "9bc258ec-a27d-4185-f952-780fa05db807"
      },
      "source": [
        "! sed -n -e 8p -e 9p /content/cfg/yolov4-tiny-custom.cfg\n",
        "! sed -i '8s/608/416/' /content/cfg/yolov4-tiny-custom.cfg\n",
        "! sed -i '9s/608/416/' /content/cfg/yolov4-tiny-custom.cfg\n",
        "! sed -n -e 8p -e 9p /content/cfg/yolov4-tiny-custom.cfg"
      ],
      "execution_count": null,
      "outputs": []
    },
    {
      "cell_type": "markdown",
      "metadata": {
        "id": "r-wCbtVZdbTB"
      },
      "source": [
        "## 第 970, 1058, 1146 行 classes 改成 4"
      ]
    },
    {
      "cell_type": "code",
      "metadata": {
        "id": "D7y3HzVDdkop",
        "colab": {
          "base_uri": "https://localhost:8080/"
        },
        "outputId": "f11eaf94-ae0d-4d15-e89e-0734d3dfca3c"
      },
      "source": [
        "! sed -n -e 220p -e 269p /content/cfg/yolov4-tiny-custom.cfg\n",
        "! sed -i '220s/80/4/' /content/cfg/yolov4-tiny-custom.cfg\n",
        "! sed -i '269s/80/4/' /content/cfg/yolov4-tiny-custom.cfg\n",
        "! sed -n -e 220p -e 269p -e 783p /content/cfg/yolov4-tiny-custom.cfg"
      ],
      "execution_count": null,
      "outputs": []
    },
    {
      "cell_type": "markdown",
      "metadata": {
        "id": "Yzq7l137bM56"
      },
      "source": [
        "## 第 963, 1051, 1139 的 filters 改成 (classes + 5)x3 = (4 + 5) * 3 = 27"
      ]
    },
    {
      "cell_type": "code",
      "metadata": {
        "id": "01NMvaIlaR5P",
        "colab": {
          "base_uri": "https://localhost:8080/"
        },
        "outputId": "b1ef10b2-e0c0-491e-e3cb-2c87784bc90c"
      },
      "source": [
        "! sed -n -e 212p -e 263p /content/cfg/yolov4-tiny-custom.cfg\n",
        "! sed -i '212s/255/27/' /content/cfg/yolov4-tiny-custom.cfg\n",
        "! sed -i '263s/255/27/' /content/cfg/yolov4-tiny-custom.cfg\n",
        "! sed -n -e 212p -e 263p /content/cfg/yolov4-tiny-custom.cfg"
      ],
      "execution_count": null,
      "outputs": []
    },
    {
      "cell_type": "markdown",
      "metadata": {
        "id": "oFgZRJS6fK6A"
      },
      "source": [
        "## 下載預先訓練的權重\n",
        "yolov4-tiny.conv.29"
      ]
    },
    {
      "cell_type": "code",
      "metadata": {
        "id": "NADpzAhBNQvA",
        "colab": {
          "base_uri": "https://localhost:8080/"
        },
        "outputId": "5a24f605-b285-4353-d3f3-edeb98ddc406"
      },
      "source": [
        "! wget https://github.com/AlexeyAB/darknet/releases/download/darknet_yolo_v4_pre/yolov4-tiny.conv.29"
      ],
      "execution_count": null,
      "outputs": []
    },
    {
      "cell_type": "markdown",
      "metadata": {
        "id": "uaPS7u8mgvTk"
      },
      "source": [
        "## 第一次開始訓練"
      ]
    },
    {
      "cell_type": "code",
      "metadata": {
        "id": "I-RDDA5SaR0u",
        "colab": {
          "base_uri": "https://localhost:8080/"
        },
        "outputId": "8d3246c1-4924-456d-f3ca-8da2cfd0d777"
      },
      "source": [
        "! darknet/darknet detector train /content/cfg/mask.data /content/cfg/yolov4-tiny-custom.cfg yolov4-tiny.conv.29 -dont_show"
      ],
      "execution_count": null,
      "outputs": []
    },
    {
      "cell_type": "markdown",
      "metadata": {
        "id": "mrM6BHg8gyNH"
      },
      "source": [
        "## 上次斷掉的地方繼續訓練"
      ]
    },
    {
      "cell_type": "code",
      "metadata": {
        "colab": {
          "base_uri": "https://localhost:8080/"
        },
        "id": "WvaGHFZ1sMZn",
        "outputId": "59f53566-a6c2-403b-a0c6-a2b182cb5072"
      },
      "source": [
        "! darknet/darknet detector train /content/cfg/mask.data /content/cfg/yolov4-tiny-custom.cfg /content/drive/MyDrive/yolov4-tiny-mask-weights/yolov4-tiny-custom_last.weights -dont_show"
      ],
      "execution_count": null,
      "outputs": []
    },
    {
      "cell_type": "code",
      "metadata": {
        "id": "0C1gH2eJqwpl"
      },
      "source": [],
      "execution_count": null,
      "outputs": []
    }
  ]
}