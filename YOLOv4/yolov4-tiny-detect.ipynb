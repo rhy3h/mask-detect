{
  "nbformat": 4,
  "nbformat_minor": 0,
  "metadata": {
    "colab": {
      "name": "yolov4-tiny",
      "provenance": [],
      "collapsed_sections": []
    },
    "kernelspec": {
      "name": "python3",
      "display_name": "Python 3"
    },
    "language_info": {
      "name": "python"
    },
    "accelerator": "GPU"
  },
  "cells": [
    {
      "cell_type": "code",
      "execution_count": null,
      "metadata": {},
      "outputs": [],
      "source": [
        "import cv2\n",
        "import imutils\n",
        "import numpy as np"
      ]
    },
    {
      "cell_type": "code",
      "execution_count": null,
      "metadata": {},
      "outputs": [],
      "source": [
        "net = cv2.dnn.readNetFromDarknet(\"yolov4-tiny-custom.cfg\",\"yolov4-tiny-custom_final.weights\")\n",
        "layer_names = net.getLayerNames()\n",
        "output_layers = [layer_names[i[0] - 1] for i in net.getUnconnectedOutLayers()]\n",
        "classes = [line.strip() for line in open(\"mask.names\")]\n",
        "colors = [(0,0,255),(255,0,0),(0,255,0),(0,255,0)]"
      ]
    },
    {
      "cell_type": "code",
      "execution_count": null,
      "metadata": {},
      "outputs": [],
      "source": [
        "def yolo_detect(frame):\n",
        "    # forward propogation\n",
        "    img = cv2.resize(frame, None, fx=0.4, fy=0.4)\n",
        "    height, width, channels = img.shape\n",
        "    blob = cv2.dnn.blobFromImage(img, 1/255.0, (416, 416), (0, 0, 0), True, crop=False)\n",
        "    net.setInput(blob)\n",
        "    outs = net.forward(output_layers)\n",
        "\n",
        "    # get detection boxes\n",
        "    class_ids = []\n",
        "    confidences = []\n",
        "    boxes = []\n",
        "    \n",
        "    for out in outs:\n",
        "        for detection in out:\n",
        "            tx, ty, tw, th, confidence = detection[0:5]\n",
        "            scores = detection[5:]\n",
        "            class_id = np.argmax(scores)\n",
        "            if confidence > 0.3:\n",
        "                center_x = int(tx * width)\n",
        "                center_y = int(ty * height)\n",
        "                w = int(tw * width)\n",
        "                h = int(th * height)\n",
        "\n",
        "                # 取得箱子方框座標\n",
        "                x = int(center_x - w / 2)\n",
        "                y = int(center_y - h / 2)\n",
        "                boxes.append([x, y, w, h])\n",
        "                confidences.append(float(confidence))\n",
        "                class_ids.append(class_id)\n",
        "                \n",
        "    # draw boxes\n",
        "    indexes = cv2.dnn.NMSBoxes(boxes, confidences, 0.3, 0.4)\n",
        "    font = cv2.FONT_HERSHEY_PLAIN\n",
        "    for i in range(len(boxes)):\n",
        "        if i in indexes:\n",
        "            x, y, w, h = boxes[i]\n",
        "            label = str(classes[class_ids[i]])\n",
        "            color = colors[class_ids[i]]\n",
        "            cv2.rectangle(img, (x, y), (x + w, y + h), color, 2)\n",
        "            cv2.putText(img, label, (x, y -5), font, 3, color, 3)\n",
        "    return img"
      ]
    },
    {
      "cell_type": "code",
      "execution_count": null,
      "metadata": {},
      "outputs": [],
      "source": [
        "VIDEO_IN = cv2.VideoCapture(0)\n",
        "\n",
        "while True:\n",
        "    hasFrame, frame = VIDEO_IN.read()\n",
        "    \n",
        "    img = yolo_detect(frame)\n",
        "    cv2.imshow(\"Frame\", imutils.resize(img, width=850))\n",
        "\n",
        "    if cv2.waitKey(1) & 0xFF == ord('q'):\n",
        "        break\n",
        "        \n",
        "VIDEO_IN.release()\n",
        "cv2.destroyAllWindows()"
      ]
    }
  ]
}